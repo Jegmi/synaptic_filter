{
 "cells": [
  {
   "cell_type": "code",
   "execution_count": 1,
   "metadata": {},
   "outputs": [],
   "source": [
    "%load_ext autoreload\n",
    "%autoreload 2"
   ]
  },
  {
   "cell_type": "code",
   "execution_count": 3,
   "metadata": {},
   "outputs": [
    {
     "name": "stdout",
     "output_type": "stream",
     "text": [
      "/Users/jannes/Documents/Science/Real-Projects/P3-JP-Synapse-Paper/git-p3/learning_as_filtering_new\n"
     ]
    }
   ],
   "source": [
    "%cd .."
   ]
  },
  {
   "cell_type": "code",
   "execution_count": 4,
   "metadata": {},
   "outputs": [
    {
     "name": "stdout",
     "output_type": "stream",
     "text": [
      "MSE_vs_input.png                 \u001b[34mnotebooks\u001b[m\u001b[m/\r\n",
      "MSE_vs_input_tauOU100_g0.png     \u001b[34mpkl_data\u001b[m\u001b[m/\r\n",
      "MSE_vs_input_tauOU100_gamma.png  pull.sh\r\n",
      "MSE_vs_input_tauOU100s.png       run_local.sh\r\n",
      "MSE_vs_input_tauOU400_gamma.png  run_remote.sh\r\n",
      "README.md                        \u001b[34msrc\u001b[m\u001b[m/\r\n",
      "main.py                          \u001b[34mutil\u001b[m\u001b[m/\r\n",
      "main.sh\r\n"
     ]
    }
   ],
   "source": [
    "ls "
   ]
  },
  {
   "cell_type": "markdown",
   "metadata": {},
   "source": [
    "- Code new learning rule\n",
    "    - alpha_bar\n",
    "    - x_wiggle (low pass)\n",
    "- Ensure that gamma is constant\n",
    "- Think of systematic comparison of Sigma in 1d\n",
    "- Run on cluster for various hyperpars\n",
    "    - beta\n",
    "    - tau_x_wiggle\n",
    "    - tau_d\n",
    "    - check norm of x_eps\n",
    "    - (?)\n",
    "     "
   ]
  },
  {
   "cell_type": "code",
   "execution_count": 5,
   "metadata": {},
   "outputs": [],
   "source": [
    "import numpy as np\n",
    "from matplotlib import pyplot as plt\n",
    "import pandas as pd\n",
    "import itertools as it\n",
    "\n",
    "from src.plotting import *\n",
    "from src.update_functions import *\n",
    "from src.init_functions import *\n",
    "from src.run_functions import *\n",
    "\n",
    "def expspace(a0, an, n=50):\n",
    "    \"\"\" linspace in exp space \"\"\"\n",
    "    return (a0 * np.exp(np.log(an / a0) * np.linspace(0, 1, n)))"
   ]
  },
  {
   "cell_type": "code",
   "execution_count": 6,
   "metadata": {},
   "outputs": [],
   "source": [
    "p = {'t_num': 4000,\n",
    "     'dt': 0.001,\n",
    "     'dim':2,\n",
    "     'tau':0.025,\n",
    "     'g0':1,\n",
    "     'beta':0.5,\n",
    "     'mu_ou':0,\n",
    "     'sig2_ou':1,     \n",
    "     'tau_ou':1000, # s\n",
    "     'rule':'corr'\n",
    "    }\n",
    "p['g0dt'] = p['g0']*p['dt']\n",
    "\n",
    "# STDP\n",
    "p['delta_T'] = 0.01\n",
    "p['wait'] = 0.5 # s\n",
    "\n",
    "# correlation protocol\n",
    "p['correlated_times'] = np.array([0, 0.01]) # s, two spikes\n",
    "\n",
    "# bias\n",
    "p['include-bias'] = False\n",
    "p['sig2_oub'] = 1\n",
    "p['tau_oub'] = 0.025\n",
    "p['mu_oub'] = 1.0\n",
    "# spike response\n",
    "p['include-spike-response-kernel'] = True\n",
    "p['tau_alpha'] = 0.025\n",
    "p['amplitude_alpha'] = -3/p['beta']\n",
    "# single vector rules\n",
    "p['tau_z'] = 1\n",
    "\n",
    "p['tau_d'] = p['tau_ou'] # ?\n",
    "p['tau_x_wiggle'] = p['tau_ou'] # good\n",
    "p['compute_sig2'] = True\n",
    "p['gamma_equal_g0'] = True\n",
    "\n",
    "# performance sims:\n",
    "p['epoch_num'] = 10\n",
    "p['epoch_wait'] = 2\n",
    "p['rate'] = 40 # Hz"
   ]
  },
  {
   "cell_type": "markdown",
   "metadata": {},
   "source": [
    "Check kernel how to make a kernel constant"
   ]
  },
  {
   "cell_type": "code",
   "execution_count": 6,
   "metadata": {},
   "outputs": [
    {
     "data": {
      "text/plain": [
       "Text(0.5, 1.0, '0.9999999999999951')"
      ]
     },
     "execution_count": 6,
     "metadata": {},
     "output_type": "execute_result"
    },
    {
     "data": {
      "image/png": "[encoded data removed]",
      "text/plain": [
       "<Figure size 432x288 with 1 Axes>"
      ]
     },
     "metadata": {
      "needs_background": "light"
     },
     "output_type": "display_data"
    }
   ],
   "source": [
    "v = {'x': np.zeros(10000)}\n",
    "dt = 0.001\n",
    "p['tau'] = 0.025\n",
    "eps0 = 1/p['tau']\n",
    "for k in range(10000-1):\n",
    "    Sx = int(k == 1000)\n",
    "    v['x'][k + 1] = (1 - dt / p['tau']) * v['x'][k] + Sx*eps0\n",
    "plt.plot(v['x'])\n",
    "plt.title(str(dt*sum(v['x'])))"
   ]
  },
  {
   "cell_type": "markdown",
   "metadata": {},
   "source": [
    "Performance simulation for two values of the membrane time constant"
   ]
  },
  {
   "cell_type": "code",
   "execution_count": 7,
   "metadata": {},
   "outputs": [
    {
     "name": "stdout",
     "output_type": "stream",
     "text": [
      "90.0\r"
     ]
    }
   ],
   "source": [
    "p['tau_ou'] = 4\n",
    "p['tau_d'] = 1\n",
    "p['tau_x_wiggle'] = 1\n",
    "p['beta'] = 0.02\n",
    "p['dim'] = 1\n",
    "p['dt'] = 0.001\n",
    "\n",
    "p['include-spike-response-kernel'] = False\n",
    "p['include-bias'] = False\n",
    "\n",
    "p['tau'] = 0.025\n",
    "p['rule'] = 'exp-rm2'\n",
    "out,v = run_simulation(p,verbose=True,online=False)\n",
    "\n",
    "p['tau'] = 1\n",
    "p['rule'] = 'exp-rm2'\n",
    "out,v2 = run_simulation(p,verbose=True,online=False)"
   ]
  },
  {
   "cell_type": "code",
   "execution_count": 8,
   "metadata": {},
   "outputs": [
    {
     "name": "stdout",
     "output_type": "stream",
     "text": [
      "0.9872826111874329\n",
      "0.9381324938391181\n"
     ]
    },
    {
     "data": {
      "text/plain": [
       "Text(0.5, 1.0, 'Overall activation only driven by rate, not tau_m')"
      ]
     },
     "execution_count": 8,
     "metadata": {},
     "output_type": "execute_result"
    },
    {
     "data": {
      "image/png": "[encoded data removed]",
      "text/plain": [
       "<Figure size 432x288 with 1 Axes>"
      ]
     },
     "metadata": {
      "needs_background": "light"
     },
     "output_type": "display_data"
    }
   ],
   "source": [
    "plt.plot(v['x'], alpha=0.4)\n",
    "print(np.mean(v['x'])/p['rate'])\n",
    "plt.plot(v2['x'], alpha=0.4)\n",
    "print(np.mean(v2['x'])/p['rate'])\n",
    "plt.title('Overall activation only driven by rate, not tau_m')"
   ]
  },
  {
   "cell_type": "code",
   "execution_count": 9,
   "metadata": {},
   "outputs": [
    {
     "data": {
      "image/png": "[encoded data removed]",
      "text/plain": [
       "<Figure size 432x288 with 1 Axes>"
      ]
     },
     "metadata": {
      "needs_background": "light"
     },
     "output_type": "display_data"
    }
   ],
   "source": [
    "vplt(v,p,key='sig2',dim=0,cut=1,c=None,err=True,alpha=0.8)\n",
    "vplt(v2,p,key='sig2',dim=0,cut=1,c=None,err=True,alpha=0.8)"
   ]
  },
  {
   "cell_type": "markdown",
   "metadata": {},
   "source": [
    "Performance simulation for two learning rules\n",
    "- show limiting case of tau >> 1, both rules yield the same"
   ]
  },
  {
   "cell_type": "code",
   "execution_count": 103,
   "metadata": {},
   "outputs": [
    {
     "name": "stdout",
     "output_type": "stream",
     "text": [
      "loaded precomputed values for: ['Sx', 'y', 'w', 'g']\n",
      "99.0\r"
     ]
    }
   ],
   "source": [
    "p['tau_ou'] = 1\n",
    "p['tau_d'] = 2  # should not matter here\n",
    "p['tau_x_wiggle'] = 10 # should not move and represent some equilibrium approx.\n",
    "p['beta'] = 0.005\n",
    "p['dim'] = 1\n",
    "p['dt'] = 0.001\n",
    "p['epoch_num'] = 100\n",
    "\n",
    "p['include-spike-response-kernel'] = False\n",
    "p['include-bias'] = False\n",
    "\n",
    "p['tau'] = 2\n",
    "p['rule'] = 'corr'\n",
    "out,v = run_simulation(p,verbose=True,online=False)\n",
    "\n",
    "p['rule'] = 'exp-rm2'\n",
    "out,v2 = run_simulation(p, verbose=True, online=False, precomputed_generator=v)"
   ]
  },
  {
   "cell_type": "code",
   "execution_count": 107,
   "metadata": {},
   "outputs": [
    {
     "name": "stdout",
     "output_type": "stream",
     "text": [
      "tau_ou=1, tau_d=2, beta=1/200, tau_m=2\n"
     ]
    },
    {
     "data": {
      "image/png": "[encoded data removed]",
      "text/plain": [
       "<Figure size 432x288 with 1 Axes>"
      ]
     },
     "metadata": {
      "needs_background": "light"
     },
     "output_type": "display_data"
    },
    {
     "data": {
      "text/plain": [
       "<matplotlib.legend.Legend at 0x7fac51514f10>"
      ]
     },
     "execution_count": 107,
     "metadata": {},
     "output_type": "execute_result"
    },
    {
     "data": {
      "image/png": "[encoded data removed]",
      "text/plain": [
       "<Figure size 432x288 with 1 Axes>"
      ]
     },
     "metadata": {
      "needs_background": "light"
     },
     "output_type": "display_data"
    }
   ],
   "source": [
    "print('tau_ou=1, tau_d=2, beta=1/200, tau_m=2')\n",
    "\n",
    "vplt(v,p,key='mu',dim=0,cut=1,c=None,err=True,alpha=0.8)\n",
    "vplt(v2,p,key='mu',dim=0,cut=1,c=None,err=True,alpha=0.8)\n",
    "plt.legend(['SF (corr)','approx (exp-rm2)'])\n",
    "\n",
    "#plt.show(), plt.close()\n",
    "\n",
    "#vplt(v,p,key='x',dim=0,cut=1,c=None,err=True,alpha=0.8)\n",
    "#vplt(v2,p,key='x',dim=0,cut=1,c=None,err=True,alpha=0.8)\n",
    "#plt.legend(['corr','exp-rm2'])\n",
    "\n",
    "plt.show(), plt.close()\n",
    "\n",
    "vplt(v,p,key='sig2',dim=0,cut=1,c=None,err=True,alpha=0.8)\n",
    "vplt(v2,p,key='sig2',dim=0,cut=1,c=None,err=True,alpha=0.8)\n",
    "plt.legend(['SF (corr)','approx (exp-rm2)'])"
   ]
  },
  {
   "cell_type": "markdown",
   "metadata": {},
   "source": [
    "Performance simulation for two learning rules\n",
    "- show limiting case of tau << 1, both rules yield the same?"
   ]
  },
  {
   "cell_type": "code",
   "execution_count": 109,
   "metadata": {},
   "outputs": [
    {
     "name": "stdout",
     "output_type": "stream",
     "text": [
      "loaded precomputed values for: ['Sx', 'y', 'w', 'g']\n",
      "99.0\r"
     ]
    }
   ],
   "source": [
    "p['tau_ou'] = 1\n",
    "p['tau_d'] = 1  # should not matter here\n",
    "p['tau_x_wiggle'] = 10 # should not move and represent some equilibrium approx.\n",
    "p['beta'] = 0.005\n",
    "p['dim'] = 1\n",
    "p['dt'] = 0.001\n",
    "p['epoch_num'] = 100\n",
    "\n",
    "p['include-spike-response-kernel'] = False\n",
    "p['include-bias'] = False\n",
    "\n",
    "p['tau'] = 0.01\n",
    "p['rule'] = 'corr'\n",
    "out,v = run_simulation(p,verbose=True,online=False)\n",
    "\n",
    "p['rule'] = 'exp-rm2'\n",
    "out,v2 = run_simulation(p, verbose=True, online=False, precomputed_generator=v)"
   ]
  },
  {
   "cell_type": "code",
   "execution_count": 111,
   "metadata": {},
   "outputs": [
    {
     "name": "stdout",
     "output_type": "stream",
     "text": [
      "tau_ou=1, tau_d=1, beta=1/200, tau_m=0.01\n"
     ]
    },
    {
     "data": {
      "image/png": "[encoded data removed]",
      "text/plain": [
       "<Figure size 432x288 with 1 Axes>"
      ]
     },
     "metadata": {
      "needs_background": "light"
     },
     "output_type": "display_data"
    },
    {
     "name": "stdout",
     "output_type": "stream",
     "text": [
      "Variance values do not coincide\n"
     ]
    },
    {
     "data": {
      "text/plain": [
       "(0.8, 1.2)"
      ]
     },
     "execution_count": 111,
     "metadata": {},
     "output_type": "execute_result"
    },
    {
     "data": {
      "image/png": "[encoded data removed]",
      "text/plain": [
       "<Figure size 432x288 with 1 Axes>"
      ]
     },
     "metadata": {
      "needs_background": "light"
     },
     "output_type": "display_data"
    }
   ],
   "source": [
    "print('tau_ou=1, tau_d=1, beta=1/200, tau_m=0.01')\n",
    "vplt(v,p,key='mu',dim=0,cut=1,c=None,err=True,alpha=0.8)\n",
    "vplt(v2,p,key='mu',dim=0,cut=1,c=None,err=True,alpha=0.8)\n",
    "plt.legend(['SF (corr)','approx (exp-rm2)'])\n",
    "#plt.ylim([0,None])\n",
    "\n",
    "plt.show(), plt.close()\n",
    "\n",
    "#vplt(v,p,key='x',dim=0,cut=1,c=None,err=True,alpha=0.8)\n",
    "#vplt(v2,p,key='x',dim=0,cut=1,c=None,err=True,alpha=0.8)\n",
    "#plt.legend(['corr','exp-rm2'])\n",
    "\n",
    "#plt.show(), plt.close()\n",
    "\n",
    "print('Variance values do not coincide')\n",
    "vplt(v,p,key='sig2',dim=0,cut=1,c=None,err=True,alpha=0.8)\n",
    "vplt(v2,p,key='sig2',dim=0,cut=1,c=None,err=True,alpha=0.8)\n",
    "plt.legend(['SF (corr)','approx (exp-rm2)'])\n",
    "plt.ylim([0.8,1.2])\n"
   ]
  },
  {
   "cell_type": "code",
   "execution_count": 101,
   "metadata": {},
   "outputs": [
    {
     "data": {
      "text/plain": [
       "(0.2389516546927042, 0.0)"
      ]
     },
     "execution_count": 101,
     "metadata": {},
     "output_type": "execute_result"
    }
   ],
   "source": [
    "import scipy.stats as stats\n",
    "s=v['sig2'].reshape(-1)\n",
    "s2=v2['sig2'].reshape(-1)\n",
    "stats.pearsonr(s,-s2)"
   ]
  },
  {
   "cell_type": "code",
   "execution_count": 92,
   "metadata": {},
   "outputs": [],
   "source": []
  },
  {
   "cell_type": "code",
   "execution_count": 97,
   "metadata": {},
   "outputs": [
    {
     "data": {
      "text/plain": [
       "(-0.23895165469270419, 0.0)"
      ]
     },
     "execution_count": 97,
     "metadata": {},
     "output_type": "execute_result"
    }
   ],
   "source": []
  },
  {
   "cell_type": "code",
   "execution_count": 77,
   "metadata": {},
   "outputs": [],
   "source": [
    "# mean of sigma is off\n",
    "# variance of sigma is off"
   ]
  },
  {
   "cell_type": "code",
   "execution_count": 39,
   "metadata": {},
   "outputs": [],
   "source": [
    "def metric(x,y):\n",
    "    return 2*x*y/(x**2 + y**2)"
   ]
  },
  {
   "cell_type": "code",
   "execution_count": 40,
   "metadata": {},
   "outputs": [],
   "source": [
    "import itertools as it\n",
    "xs,ys = np.linspace(0.1,2), np.linspace(0.1,2)\n",
    "z = [metric(x,y) for (x, y) in it.product(xs,ys)]"
   ]
  },
  {
   "cell_type": "code",
   "execution_count": 45,
   "metadata": {},
   "outputs": [
    {
     "data": {
      "text/plain": [
       "<matplotlib.colorbar.Colorbar at 0x7fac50a86a10>"
      ]
     },
     "execution_count": 45,
     "metadata": {},
     "output_type": "execute_result"
    },
    {
     "data": {
      "image/png": "[encoded data removed]",
      "text/plain": [
       "<Figure size 432x288 with 2 Axes>"
      ]
     },
     "metadata": {
      "needs_background": "light"
     },
     "output_type": "display_data"
    }
   ],
   "source": [
    "z = np.array(z).reshape([len(xs), len(ys)])\n",
    "h = plt.imshow(z)\n",
    "plt.colorbar(h)"
   ]
  },
  {
   "cell_type": "markdown",
   "metadata": {},
   "source": [
    "Performance sims for multiple time constants on a grid"
   ]
  },
  {
   "cell_type": "code",
   "execution_count": null,
   "metadata": {},
   "outputs": [],
   "source": [
    "p['tau_ou'] = 4\n",
    "tau_ds = [0.1,0.5,1]\n",
    "tau_x_wiggles = [1,1.5,2]\n",
    "f, axs = plt.subplots(3,3,sharex=True,sharey=True,figsize=[10,10])\n",
    "for ax, (tau_d, tau_x_wiggle) in zip(\n",
    "    axs.reshape(-1), it.product(tau_ds, tau_x_wiggles)):\n",
    "\n",
    "    p['tau_d'] = tau_d*p['tau_ou']\n",
    "    p['tau_x_wiggle'] = tau_x_wiggle*p['tau_ou']\n",
    "    p['beta'] = 0.02\n",
    "    p['dim'] = 1\n",
    "    p['dt'] = 0.001\n",
    "\n",
    "    p['include-spike-response-kernel'] = False\n",
    "    p['include-bias'] = False\n",
    "\n",
    "    p['rule'] = 'exp-rm2'\n",
    "    out,v = run_simulation(p,verbose=True,online=False)\n",
    "\n",
    "    p['rule'] = 'corr'\n",
    "    out,v2 = run_simulation(p,verbose=True,online=False)\n",
    "\n",
    "    plt.sca(ax)\n",
    "    vplt(v,p,key='sig2',dim=0,cut=1,c=None,err=True,alpha=0.8)\n",
    "    vplt(v2,p,key='sig2',dim=0,cut=1,c=None,err=True,alpha=0.8)\n",
    "    \n",
    "    tau_dd = p['tau_d']\n",
    "    tau_x_wigglee = p['tau_x_wiggle']\n",
    "    plt.title(f'tau_d={tau_dd}, tau_x_wiggle={tau_x_wigglee}')\n",
    "    \n",
    "plt.show(), plt.close()"
   ]
  },
  {
   "cell_type": "markdown",
   "metadata": {},
   "source": [
    "With larger beta"
   ]
  },
  {
   "cell_type": "code",
   "execution_count": null,
   "metadata": {},
   "outputs": [],
   "source": [
    "p['tau_ou'] = 4\n",
    "tau_ds = [0.1,0.5,1]\n",
    "tau_x_wiggles = [0.1,0.5,1]\n",
    "f, axs = plt.subplots(3,3,sharex=True,sharey=True,figsize=[10,10])\n",
    "for ax, (tau_d, tau_x_wiggle) in zip(\n",
    "    axs.reshape(-1), it.product(tau_ds, tau_x_wiggles)):\n",
    "\n",
    "    p['tau_d'] = tau_d*p['tau_ou']\n",
    "    p['tau_x_wiggle'] = tau_x_wiggle*p['tau_ou']\n",
    "    p['beta'] = 0.1\n",
    "    p['dim'] = 1\n",
    "    p['dt'] = 0.001\n",
    "\n",
    "    p['include-spike-response-kernel'] = False\n",
    "    p['include-bias'] = False\n",
    "\n",
    "    p['rule'] = 'exp-rm2'\n",
    "    out,v = run_simulation(p,verbose=True,online=False)\n",
    "\n",
    "    p['rule'] = 'corr'\n",
    "    out,v2 = run_simulation(p,verbose=True,online=False)\n",
    "\n",
    "    plt.sca(ax)\n",
    "    vplt(v,p,key='sig2',dim=0,cut=1,c=None,err=True,alpha=0.8)\n",
    "    vplt(v2,p,key='sig2',dim=0,cut=1,c=None,err=True,alpha=0.8)\n",
    "    \n",
    "    tau_dd = p['tau_d']\n",
    "    tau_x_wigglee = p['tau_x_wiggle']\n",
    "    plt.title(f'tau_d={tau_dd}, tau_x_wiggle={tau_x_wigglee}')\n",
    "    \n",
    "plt.show(), plt.close()"
   ]
  },
  {
   "cell_type": "markdown",
   "metadata": {},
   "source": [
    "Plot Sigma_infty with errorbars as function of beta:"
   ]
  },
  {
   "cell_type": "code",
   "execution_count": null,
   "metadata": {},
   "outputs": [],
   "source": [
    "#10*63000/3600 # hours"
   ]
  },
  {
   "cell_type": "code",
   "execution_count": null,
   "metadata": {},
   "outputs": [],
   "source": [
    "p['tau_ou'] = 4\n",
    "p['tau_d'] = 4\n",
    "p['tau_x_wiggle'] = 6\n",
    "p['beta'] = 0.1\n",
    "p['dim'] = 1\n",
    "p['dt'] = 0.001\n",
    "p['epoch_num'] = 30\n",
    "p['include-spike-response-kernel'] = False\n",
    "p['include-bias'] = False\n",
    "p['compute_sig2'] = True # for plotting?\n",
    "p['online'] = True\n",
    "\n",
    "mp = {'betas': [p['beta']], #np.linspace(0.01,1,21),\n",
    "      'rules':  ('corr','exp','exp-rm2'),\n",
    "      'repeats': range(20),\n",
    "      #'dims': [1,2,3,4,5,7,9,11,13,15,20,25,30,40,50],\n",
    "      'dims': [1,10,50],\n",
    "      'tau': [0.005, 0.025,0.125, 0.625]              \n",
    "      }\n",
    "res = []\n",
    "\n",
    "parameter_list = list(enumerate(it.product(mp['dims'], mp['betas'],\n",
    "                                        mp['rules'], mp['repeats'],\n",
    "                                        mp['tau']\n",
    "                                        )))\n",
    "        \n",
    "length = len(parameter_list)\n",
    "#length = len(list(it.product(mp['betas'], mp['rules'], mp['repeats'])))\n",
    "#res = []\n",
    "\n",
    "#parameter_list = list(enumerate(it.product(mp['betas'],\n",
    " #                                               mp['rules'], mp['repeats'], mp['dims'])))\n",
    "\n",
    "#parameter_list = list(enumerate(it.product(mp['betas'], mp['rules'], mp['repeats'])))\n",
    "\n",
    "for count, (dim, beta, rule, repeat, tau) in parameter_list:    \n",
    "    print(count,'/',length,'rule:',rule,'beta:',beta)\n",
    "    p['rule'] = rule\n",
    "    p['beta'] = beta\n",
    "    p['tau'] = tau\n",
    "    \n",
    "    out,v = run_simulation(p,verbose=True,online=True)\n",
    "    \n",
    "    out = out.mean().to_dict()\n",
    "    out.update({'beta':beta,'rule':rule})       \n",
    "    res.append(out)\n",
    "res = pd.DataFrame(res)"
   ]
  },
  {
   "cell_type": "code",
   "execution_count": null,
   "metadata": {},
   "outputs": [],
   "source": [
    "len(parameter_list)"
   ]
  },
  {
   "cell_type": "code",
   "execution_count": 12,
   "metadata": {},
   "outputs": [],
   "source": [
    "def plot_res(res, metrics = ['MSE','sig2'],ylims=None, xaxis='beta'):\n",
    "    res2 = res[['rule',xaxis] + metrics]\n",
    "    mean = res2.groupby(['rule',xaxis]).mean()\n",
    "    sem = res2.groupby(['rule',xaxis]).sem()\n",
    "\n",
    "    f,axs = plt.subplots(len(metrics),1,figsize=[8,6], tight_layout=True,sharex=True)\n",
    "    for metric,ax in zip(metrics,axs.reshape(-1)):\n",
    "        ax.set_ylabel(metric)\n",
    "\n",
    "        for rule in mp['rules']:\n",
    "            mean.loc[rule,metric].plot(label=rule,ax=ax,marker='o',yerr=sem.loc[rule,metric])\n",
    "            \n",
    "        if ylims is not None:\n",
    "            ax.set_ylim(ylims[metric])\n",
    "            \n",
    "        ax.legend(ncol=len(mp['rules']))\n",
    "        #ax.set_xscale('log')\n",
    "        ax.set_title(metric)\n",
    "        #ax.set_yscale('log')\n",
    "        "
   ]
  },
  {
   "cell_type": "code",
   "execution_count": 15,
   "metadata": {},
   "outputs": [
    {
     "name": "stdout",
     "output_type": "stream",
     "text": [
      "\u001b[34mc_01-Mar-2021-beta_lin_dim\u001b[m\u001b[m/\r\n",
      "\u001b[34mc_03-Mar-2021-beta_lin_dim\u001b[m\u001b[m/\r\n",
      "\u001b[34mc_07-Feb-2021-job_name\u001b[m\u001b[m/\r\n",
      "\u001b[34mc_07-Mar-2021-beta_lin_dim2\u001b[m\u001b[m/\r\n",
      "\u001b[34mc_08-Feb-2021-beta100\u001b[m\u001b[m/\r\n",
      "\u001b[34mc_08-Mar-2021-beta_lin_dim3\u001b[m\u001b[m/\r\n",
      "\u001b[34mc_11-Apr-2021-int_tau_const\u001b[m\u001b[m/\r\n",
      "\u001b[34mc_11-Apr-2021-int_tau_const_mini\u001b[m\u001b[m/\r\n",
      "\u001b[34mc_12-Apr-2021-int_tau_const_mini2\u001b[m\u001b[m/\r\n",
      "\u001b[34mc_14-Mar-2021-beta_lin_dim3\u001b[m\u001b[m/\r\n",
      "\u001b[34mc_14-Mar-2021-low_high_tau_x_rho\u001b[m\u001b[m/\r\n",
      "\u001b[34mc_14-Mar-2021-low_high_tau_x_rho2\u001b[m\u001b[m/\r\n",
      "\u001b[34mc_14-Mar-2021-low_high_tau_x_rho3\u001b[m\u001b[m/\r\n",
      "\u001b[34mc_15-Mar-2021-low_high_tau_x_rho3_long\u001b[m\u001b[m/\r\n",
      "\u001b[34mc_20-Mar-2021-low_high_tau_x_rho3_long_gamma\u001b[m\u001b[m/\r\n",
      "\u001b[34mc_20-Mar-2021-low_high_tau_x_rho3_longlong\u001b[m\u001b[m/\r\n",
      "\u001b[34mc_21-Mar-2021-low_high_tau_x_rho3_long_beta_smaller\u001b[m\u001b[m/\r\n",
      "\u001b[34mc_21-Mar-2021-low_high_tau_x_rho3_long_beta_smaller_g0\u001b[m\u001b[m/\r\n",
      "\u001b[34mc_21-Mar-2021-low_high_tau_x_rho3_longlong2\u001b[m\u001b[m/\r\n",
      "\u001b[34mc_22-Apr-2021-int_tau_const_mini2\u001b[m\u001b[m/\r\n",
      "\u001b[34mc_22-Feb-2021-beta100\u001b[m\u001b[m/\r\n",
      "\u001b[34mc_22-Feb-2021-beta_lin\u001b[m\u001b[m/\r\n",
      "\u001b[34mc_28-Feb-2021-beta_lin\u001b[m\u001b[m/\r\n",
      "\u001b[34mc_30-Mar-2021-low_high_tau_x_rho3_long_beta_smaller_g0\u001b[m\u001b[m/\r\n",
      "\u001b[34mlearning_as_filtering\u001b[m\u001b[m/\r\n",
      "\u001b[34mlearning_as_filtering_new\u001b[m\u001b[m/\r\n"
     ]
    }
   ],
   "source": [
    "ls ./../c_12-Apr-2021-int_tau_const_mini2"
   ]
  },
  {
   "cell_type": "code",
   "execution_count": 7,
   "metadata": {},
   "outputs": [],
   "source": [
    "from pathlib import Path\n",
    "#file_path = Path('./../c_28-Feb-2021-beta_lin/pkl_data/')\n",
    "#file_path = Path('./../c_07-Mar-2021-beta_lin_dim2/pkl_data/')\n",
    "file_path = Path('./../c_14-Mar-2021-low_high_tau_x_rho3/pkl_data/')\n",
    "#file_path = Path('./../c_15-Mar-2021-low_high_tau_x_rho3_long/pkl_data/')\n",
    "#file_path = Path('./../c_20-Mar-2021-low_high_tau_x_rho3_longlong/pkl_data/')\n",
    "#file_path = Path('./../c_20-Mar-2021-low_high_tau_x_rho3_long_gamma/pkl_data/') -> instable\n",
    "#file_path = Path('./../c_21-Mar-2021-low_high_tau_x_rho3_long_beta_smaller_g0/pkl_data/') # -> beta 0.1, g0: not unstable, but worse MSE\n",
    "#file_path = Path('./../c_21-Mar-2021-low_high_tau_x_rho3_long_beta_smaller/pkl_data/') # -> beta 0.1, gamma: unstable but a bit later\n",
    "#file_path = Path('./../c_21-Mar-2021-low_high_tau_x_rho3_longlong2/pkl_data/') # -> tau_ou=300s, g0: unstable\n",
    "#file_path = Path('./../c_12-Apr-2021-int_tau_const_mini2/pkl_data/') \n",
    "\n",
    "# Qs:\n",
    "# g0 vs gamma\n",
    "# long vs short\n",
    "\n",
    "import pickle\n",
    "def load_obj(name, path='./'):\n",
    "    #    print('load obj:',os.getcwd())\n",
    "    with open(path + name + '.pkl', 'rb') as f:\n",
    "        return pickle.load(f)"
   ]
  },
  {
   "cell_type": "code",
   "execution_count": 8,
   "metadata": {},
   "outputs": [],
   "source": [
    "res3 = pd.concat([load_obj(str(path)[:-4]) for path in file_path.glob('**/*.pkl')])"
   ]
  },
  {
   "cell_type": "code",
   "execution_count": 9,
   "metadata": {},
   "outputs": [
    {
     "data": {
      "text/html": [
       "<div>\n",
       "<style scoped>\n",
       "    .dataframe tbody tr th:only-of-type {\n",
       "        vertical-align: middle;\n",
       "    }\n",
       "\n",
       "    .dataframe tbody tr th {\n",
       "        vertical-align: top;\n",
       "    }\n",
       "\n",
       "    .dataframe thead th {\n",
       "        text-align: right;\n",
       "    }\n",
       "</style>\n",
       "<table border=\"1\" class=\"dataframe\">\n",
       "  <thead>\n",
       "    <tr style=\"text-align: right;\">\n",
       "      <th></th>\n",
       "      <th>L</th>\n",
       "      <th>L_pt</th>\n",
       "      <th>MSE</th>\n",
       "      <th>beta</th>\n",
       "      <th>count</th>\n",
       "      <th>dim</th>\n",
       "      <th>gbar_gg_one</th>\n",
       "      <th>gdt_gg_one</th>\n",
       "      <th>gmap_gg_one</th>\n",
       "      <th>rule</th>\n",
       "      <th>tau</th>\n",
       "      <th>tau_rho</th>\n",
       "    </tr>\n",
       "  </thead>\n",
       "  <tbody>\n",
       "    <tr>\n",
       "      <th>0</th>\n",
       "      <td>-8.039121e-07</td>\n",
       "      <td>-0.000001</td>\n",
       "      <td>0.870255</td>\n",
       "      <td>0.3</td>\n",
       "      <td>270</td>\n",
       "      <td>1</td>\n",
       "      <td>0.0</td>\n",
       "      <td>0.0</td>\n",
       "      <td>0.0</td>\n",
       "      <td>corr</td>\n",
       "      <td>0.005</td>\n",
       "      <td>0.2</td>\n",
       "    </tr>\n",
       "    <tr>\n",
       "      <th>1</th>\n",
       "      <td>-5.105533e-06</td>\n",
       "      <td>-0.000001</td>\n",
       "      <td>0.689412</td>\n",
       "      <td>0.3</td>\n",
       "      <td>271</td>\n",
       "      <td>1</td>\n",
       "      <td>0.0</td>\n",
       "      <td>0.0</td>\n",
       "      <td>0.0</td>\n",
       "      <td>corr</td>\n",
       "      <td>0.010</td>\n",
       "      <td>0.4</td>\n",
       "    </tr>\n",
       "    <tr>\n",
       "      <th>2</th>\n",
       "      <td>-4.405155e-06</td>\n",
       "      <td>-0.000008</td>\n",
       "      <td>0.578141</td>\n",
       "      <td>0.3</td>\n",
       "      <td>272</td>\n",
       "      <td>1</td>\n",
       "      <td>0.0</td>\n",
       "      <td>0.0</td>\n",
       "      <td>0.0</td>\n",
       "      <td>corr</td>\n",
       "      <td>0.015</td>\n",
       "      <td>0.6</td>\n",
       "    </tr>\n",
       "    <tr>\n",
       "      <th>3</th>\n",
       "      <td>2.453117e-05</td>\n",
       "      <td>0.000015</td>\n",
       "      <td>0.858953</td>\n",
       "      <td>0.3</td>\n",
       "      <td>273</td>\n",
       "      <td>1</td>\n",
       "      <td>0.0</td>\n",
       "      <td>0.0</td>\n",
       "      <td>0.0</td>\n",
       "      <td>corr</td>\n",
       "      <td>0.020</td>\n",
       "      <td>0.8</td>\n",
       "    </tr>\n",
       "    <tr>\n",
       "      <th>4</th>\n",
       "      <td>1.509860e-05</td>\n",
       "      <td>0.000010</td>\n",
       "      <td>0.668054</td>\n",
       "      <td>0.3</td>\n",
       "      <td>274</td>\n",
       "      <td>1</td>\n",
       "      <td>0.0</td>\n",
       "      <td>0.0</td>\n",
       "      <td>0.0</td>\n",
       "      <td>corr</td>\n",
       "      <td>0.025</td>\n",
       "      <td>1.0</td>\n",
       "    </tr>\n",
       "    <tr>\n",
       "      <th>...</th>\n",
       "      <td>...</td>\n",
       "      <td>...</td>\n",
       "      <td>...</td>\n",
       "      <td>...</td>\n",
       "      <td>...</td>\n",
       "      <td>...</td>\n",
       "      <td>...</td>\n",
       "      <td>...</td>\n",
       "      <td>...</td>\n",
       "      <td>...</td>\n",
       "      <td>...</td>\n",
       "      <td>...</td>\n",
       "    </tr>\n",
       "    <tr>\n",
       "      <th>10</th>\n",
       "      <td>3.322442e-04</td>\n",
       "      <td>0.000304</td>\n",
       "      <td>0.383828</td>\n",
       "      <td>0.3</td>\n",
       "      <td>250</td>\n",
       "      <td>1</td>\n",
       "      <td>0.0</td>\n",
       "      <td>0.0</td>\n",
       "      <td>0.0</td>\n",
       "      <td>corr</td>\n",
       "      <td>0.060</td>\n",
       "      <td>2.4</td>\n",
       "    </tr>\n",
       "    <tr>\n",
       "      <th>11</th>\n",
       "      <td>6.840184e-04</td>\n",
       "      <td>0.000597</td>\n",
       "      <td>0.462031</td>\n",
       "      <td>0.3</td>\n",
       "      <td>251</td>\n",
       "      <td>1</td>\n",
       "      <td>0.0</td>\n",
       "      <td>0.0</td>\n",
       "      <td>0.0</td>\n",
       "      <td>corr</td>\n",
       "      <td>0.070</td>\n",
       "      <td>2.8</td>\n",
       "    </tr>\n",
       "    <tr>\n",
       "      <th>12</th>\n",
       "      <td>1.233935e-03</td>\n",
       "      <td>0.001176</td>\n",
       "      <td>0.483397</td>\n",
       "      <td>0.3</td>\n",
       "      <td>252</td>\n",
       "      <td>1</td>\n",
       "      <td>0.0</td>\n",
       "      <td>0.0</td>\n",
       "      <td>0.0</td>\n",
       "      <td>corr</td>\n",
       "      <td>0.080</td>\n",
       "      <td>3.2</td>\n",
       "    </tr>\n",
       "    <tr>\n",
       "      <th>13</th>\n",
       "      <td>9.386932e-05</td>\n",
       "      <td>0.000076</td>\n",
       "      <td>0.397844</td>\n",
       "      <td>0.3</td>\n",
       "      <td>253</td>\n",
       "      <td>1</td>\n",
       "      <td>0.0</td>\n",
       "      <td>0.0</td>\n",
       "      <td>0.0</td>\n",
       "      <td>corr</td>\n",
       "      <td>0.090</td>\n",
       "      <td>3.6</td>\n",
       "    </tr>\n",
       "    <tr>\n",
       "      <th>14</th>\n",
       "      <td>7.336561e-04</td>\n",
       "      <td>0.000687</td>\n",
       "      <td>0.344293</td>\n",
       "      <td>0.3</td>\n",
       "      <td>254</td>\n",
       "      <td>1</td>\n",
       "      <td>0.0</td>\n",
       "      <td>0.0</td>\n",
       "      <td>0.0</td>\n",
       "      <td>corr</td>\n",
       "      <td>0.100</td>\n",
       "      <td>4.0</td>\n",
       "    </tr>\n",
       "  </tbody>\n",
       "</table>\n",
       "<p>300 rows × 12 columns</p>\n",
       "</div>"
      ],
      "text/plain": [
       "               L      L_pt       MSE  beta  count  dim  gbar_gg_one  \\\n",
       "0  -8.039121e-07 -0.000001  0.870255   0.3    270    1          0.0   \n",
       "1  -5.105533e-06 -0.000001  0.689412   0.3    271    1          0.0   \n",
       "2  -4.405155e-06 -0.000008  0.578141   0.3    272    1          0.0   \n",
       "3   2.453117e-05  0.000015  0.858953   0.3    273    1          0.0   \n",
       "4   1.509860e-05  0.000010  0.668054   0.3    274    1          0.0   \n",
       "..           ...       ...       ...   ...    ...  ...          ...   \n",
       "10  3.322442e-04  0.000304  0.383828   0.3    250    1          0.0   \n",
       "11  6.840184e-04  0.000597  0.462031   0.3    251    1          0.0   \n",
       "12  1.233935e-03  0.001176  0.483397   0.3    252    1          0.0   \n",
       "13  9.386932e-05  0.000076  0.397844   0.3    253    1          0.0   \n",
       "14  7.336561e-04  0.000687  0.344293   0.3    254    1          0.0   \n",
       "\n",
       "    gdt_gg_one  gmap_gg_one  rule    tau  tau_rho  \n",
       "0          0.0          0.0  corr  0.005      0.2  \n",
       "1          0.0          0.0  corr  0.010      0.4  \n",
       "2          0.0          0.0  corr  0.015      0.6  \n",
       "3          0.0          0.0  corr  0.020      0.8  \n",
       "4          0.0          0.0  corr  0.025      1.0  \n",
       "..         ...          ...   ...    ...      ...  \n",
       "10         0.0          0.0  corr  0.060      2.4  \n",
       "11         0.0          0.0  corr  0.070      2.8  \n",
       "12         0.0          0.0  corr  0.080      3.2  \n",
       "13         0.0          0.0  corr  0.090      3.6  \n",
       "14         0.0          0.0  corr  0.100      4.0  \n",
       "\n",
       "[300 rows x 12 columns]"
      ]
     },
     "execution_count": 9,
     "metadata": {},
     "output_type": "execute_result"
    }
   ],
   "source": [
    "res3[(res3.dim==1) & (res3.rule == 'corr')]"
   ]
  },
  {
   "cell_type": "markdown",
   "metadata": {},
   "source": [
    "low high analysis"
   ]
  },
  {
   "cell_type": "code",
   "execution_count": 10,
   "metadata": {},
   "outputs": [
    {
     "data": {
      "text/html": [
       "<div>\n",
       "<style scoped>\n",
       "    .dataframe tbody tr th:only-of-type {\n",
       "        vertical-align: middle;\n",
       "    }\n",
       "\n",
       "    .dataframe tbody tr th {\n",
       "        vertical-align: top;\n",
       "    }\n",
       "\n",
       "    .dataframe thead th {\n",
       "        text-align: right;\n",
       "    }\n",
       "</style>\n",
       "<table border=\"1\" class=\"dataframe\">\n",
       "  <thead>\n",
       "    <tr style=\"text-align: right;\">\n",
       "      <th></th>\n",
       "      <th>L</th>\n",
       "      <th>L_pt</th>\n",
       "      <th>MSE</th>\n",
       "      <th>beta</th>\n",
       "      <th>count</th>\n",
       "      <th>dim</th>\n",
       "      <th>gbar_gg_one</th>\n",
       "      <th>gdt_gg_one</th>\n",
       "      <th>gmap_gg_one</th>\n",
       "      <th>rule</th>\n",
       "      <th>tau</th>\n",
       "      <th>tau_rho</th>\n",
       "    </tr>\n",
       "  </thead>\n",
       "  <tbody>\n",
       "    <tr>\n",
       "      <th>0</th>\n",
       "      <td>0.000001</td>\n",
       "      <td>4.343577e-07</td>\n",
       "      <td>0.973556</td>\n",
       "      <td>0.3</td>\n",
       "      <td>1395</td>\n",
       "      <td>10</td>\n",
       "      <td>0.0</td>\n",
       "      <td>0.0</td>\n",
       "      <td>0.0</td>\n",
       "      <td>exp</td>\n",
       "      <td>0.005</td>\n",
       "      <td>0.2</td>\n",
       "    </tr>\n",
       "    <tr>\n",
       "      <th>1</th>\n",
       "      <td>0.000002</td>\n",
       "      <td>-3.432604e-07</td>\n",
       "      <td>1.102396</td>\n",
       "      <td>0.3</td>\n",
       "      <td>1396</td>\n",
       "      <td>10</td>\n",
       "      <td>0.0</td>\n",
       "      <td>0.0</td>\n",
       "      <td>0.0</td>\n",
       "      <td>exp</td>\n",
       "      <td>0.010</td>\n",
       "      <td>0.4</td>\n",
       "    </tr>\n",
       "    <tr>\n",
       "      <th>2</th>\n",
       "      <td>-0.000001</td>\n",
       "      <td>2.173107e-06</td>\n",
       "      <td>1.052352</td>\n",
       "      <td>0.3</td>\n",
       "      <td>1397</td>\n",
       "      <td>10</td>\n",
       "      <td>0.0</td>\n",
       "      <td>0.0</td>\n",
       "      <td>0.0</td>\n",
       "      <td>exp</td>\n",
       "      <td>0.015</td>\n",
       "      <td>0.6</td>\n",
       "    </tr>\n",
       "    <tr>\n",
       "      <th>3</th>\n",
       "      <td>0.000031</td>\n",
       "      <td>2.377695e-05</td>\n",
       "      <td>0.986663</td>\n",
       "      <td>0.3</td>\n",
       "      <td>1398</td>\n",
       "      <td>10</td>\n",
       "      <td>0.0</td>\n",
       "      <td>0.0</td>\n",
       "      <td>0.0</td>\n",
       "      <td>exp</td>\n",
       "      <td>0.020</td>\n",
       "      <td>0.8</td>\n",
       "    </tr>\n",
       "    <tr>\n",
       "      <th>4</th>\n",
       "      <td>0.000010</td>\n",
       "      <td>1.027622e-05</td>\n",
       "      <td>0.982682</td>\n",
       "      <td>0.3</td>\n",
       "      <td>1399</td>\n",
       "      <td>10</td>\n",
       "      <td>0.0</td>\n",
       "      <td>0.0</td>\n",
       "      <td>0.0</td>\n",
       "      <td>exp</td>\n",
       "      <td>0.025</td>\n",
       "      <td>1.0</td>\n",
       "    </tr>\n",
       "    <tr>\n",
       "      <th>...</th>\n",
       "      <td>...</td>\n",
       "      <td>...</td>\n",
       "      <td>...</td>\n",
       "      <td>...</td>\n",
       "      <td>...</td>\n",
       "      <td>...</td>\n",
       "      <td>...</td>\n",
       "      <td>...</td>\n",
       "      <td>...</td>\n",
       "      <td>...</td>\n",
       "      <td>...</td>\n",
       "      <td>...</td>\n",
       "    </tr>\n",
       "    <tr>\n",
       "      <th>10</th>\n",
       "      <td>0.000078</td>\n",
       "      <td>6.167943e-05</td>\n",
       "      <td>0.907198</td>\n",
       "      <td>0.3</td>\n",
       "      <td>1135</td>\n",
       "      <td>10</td>\n",
       "      <td>0.0</td>\n",
       "      <td>0.0</td>\n",
       "      <td>0.0</td>\n",
       "      <td>corr</td>\n",
       "      <td>0.060</td>\n",
       "      <td>2.4</td>\n",
       "    </tr>\n",
       "    <tr>\n",
       "      <th>11</th>\n",
       "      <td>0.000124</td>\n",
       "      <td>9.718872e-05</td>\n",
       "      <td>0.945477</td>\n",
       "      <td>0.3</td>\n",
       "      <td>1136</td>\n",
       "      <td>10</td>\n",
       "      <td>0.0</td>\n",
       "      <td>0.0</td>\n",
       "      <td>0.0</td>\n",
       "      <td>corr</td>\n",
       "      <td>0.070</td>\n",
       "      <td>2.8</td>\n",
       "    </tr>\n",
       "    <tr>\n",
       "      <th>12</th>\n",
       "      <td>0.000083</td>\n",
       "      <td>6.365856e-05</td>\n",
       "      <td>0.888491</td>\n",
       "      <td>0.3</td>\n",
       "      <td>1137</td>\n",
       "      <td>10</td>\n",
       "      <td>0.0</td>\n",
       "      <td>0.0</td>\n",
       "      <td>0.0</td>\n",
       "      <td>corr</td>\n",
       "      <td>0.080</td>\n",
       "      <td>3.2</td>\n",
       "    </tr>\n",
       "    <tr>\n",
       "      <th>13</th>\n",
       "      <td>0.000813</td>\n",
       "      <td>7.856069e-04</td>\n",
       "      <td>0.908616</td>\n",
       "      <td>0.3</td>\n",
       "      <td>1138</td>\n",
       "      <td>10</td>\n",
       "      <td>0.0</td>\n",
       "      <td>0.0</td>\n",
       "      <td>0.0</td>\n",
       "      <td>corr</td>\n",
       "      <td>0.090</td>\n",
       "      <td>3.6</td>\n",
       "    </tr>\n",
       "    <tr>\n",
       "      <th>14</th>\n",
       "      <td>0.000564</td>\n",
       "      <td>4.886297e-04</td>\n",
       "      <td>0.870915</td>\n",
       "      <td>0.3</td>\n",
       "      <td>1139</td>\n",
       "      <td>10</td>\n",
       "      <td>0.0</td>\n",
       "      <td>0.0</td>\n",
       "      <td>0.0</td>\n",
       "      <td>corr</td>\n",
       "      <td>0.100</td>\n",
       "      <td>4.0</td>\n",
       "    </tr>\n",
       "  </tbody>\n",
       "</table>\n",
       "<p>2700 rows × 12 columns</p>\n",
       "</div>"
      ],
      "text/plain": [
       "           L          L_pt       MSE  beta  count  dim  gbar_gg_one  \\\n",
       "0   0.000001  4.343577e-07  0.973556   0.3   1395   10          0.0   \n",
       "1   0.000002 -3.432604e-07  1.102396   0.3   1396   10          0.0   \n",
       "2  -0.000001  2.173107e-06  1.052352   0.3   1397   10          0.0   \n",
       "3   0.000031  2.377695e-05  0.986663   0.3   1398   10          0.0   \n",
       "4   0.000010  1.027622e-05  0.982682   0.3   1399   10          0.0   \n",
       "..       ...           ...       ...   ...    ...  ...          ...   \n",
       "10  0.000078  6.167943e-05  0.907198   0.3   1135   10          0.0   \n",
       "11  0.000124  9.718872e-05  0.945477   0.3   1136   10          0.0   \n",
       "12  0.000083  6.365856e-05  0.888491   0.3   1137   10          0.0   \n",
       "13  0.000813  7.856069e-04  0.908616   0.3   1138   10          0.0   \n",
       "14  0.000564  4.886297e-04  0.870915   0.3   1139   10          0.0   \n",
       "\n",
       "    gdt_gg_one  gmap_gg_one  rule    tau  tau_rho  \n",
       "0          0.0          0.0   exp  0.005      0.2  \n",
       "1          0.0          0.0   exp  0.010      0.4  \n",
       "2          0.0          0.0   exp  0.015      0.6  \n",
       "3          0.0          0.0   exp  0.020      0.8  \n",
       "4          0.0          0.0   exp  0.025      1.0  \n",
       "..         ...          ...   ...    ...      ...  \n",
       "10         0.0          0.0  corr  0.060      2.4  \n",
       "11         0.0          0.0  corr  0.070      2.8  \n",
       "12         0.0          0.0  corr  0.080      3.2  \n",
       "13         0.0          0.0  corr  0.090      3.6  \n",
       "14         0.0          0.0  corr  0.100      4.0  \n",
       "\n",
       "[2700 rows x 12 columns]"
      ]
     },
     "execution_count": 10,
     "metadata": {},
     "output_type": "execute_result"
    }
   ],
   "source": [
    "res = res3.copy()\n",
    "res"
   ]
  },
  {
   "cell_type": "code",
   "execution_count": 11,
   "metadata": {},
   "outputs": [],
   "source": [
    "m = res.groupby(['rule','tau','dim']).mean().reset_index()\n",
    "m2 = m[m.tau != .625].sort_values('count').set_index('tau_rho')"
   ]
  },
  {
   "cell_type": "code",
   "execution_count": 12,
   "metadata": {},
   "outputs": [
    {
     "data": {
      "text/plain": [
       "Text(0.5, 1.05, 'MSE vs dimensionless input strength (firing rate time membrane constant)')"
      ]
     },
     "execution_count": 12,
     "metadata": {},
     "output_type": "execute_result"
    },
    {
     "data": {
      "image/png": "[encoded data removed]",
      "text/plain": [
       "<Figure size 720x432 with 3 Axes>"
      ]
     },
     "metadata": {
      "needs_background": "light"
     },
     "output_type": "display_data"
    }
   ],
   "source": [
    "f,axs = plt.subplots(1,3,figsize=[10,6],tight_layout=True,sharey=True)\n",
    "for dim,ax in zip(m2.dim.unique(),axs):\n",
    "    m3 = m2.loc[m2.dim==dim,['rule','MSE']]\n",
    "    #ax = None\n",
    "    for rule in m3.rule.unique():\n",
    "        ax = m3[m3.rule==rule].plot(y='MSE',label=rule,ax=ax,marker='o')\n",
    "    ax.axvline(x=1, ls='--', c='gray')\n",
    "    ax.set_title('dim: ' + str(dim))    \n",
    "    #ax.set_ylim([0.0,1.5])\n",
    "    if axs[0] is ax:\n",
    "        ax.set_ylabel('MSE')\n",
    "    #ax.set_xticks(m2.index.drop_duplicates())\n",
    "    ax.set_yscale('log')\n",
    "plt.suptitle('MSE vs dimensionless input strength (firing rate time membrane constant)',y=1.05)\n",
    "#plt.savefig('MSE_vs_input_tauOU400_gamma.png',dpi=500)"
   ]
  },
  {
   "cell_type": "markdown",
   "metadata": {},
   "source": [
    "dim beta analysis"
   ]
  },
  {
   "cell_type": "code",
   "execution_count": 13,
   "metadata": {},
   "outputs": [],
   "source": [
    "res = res3"
   ]
  },
  {
   "cell_type": "code",
   "execution_count": 14,
   "metadata": {},
   "outputs": [],
   "source": [
    "#plot_res(res3, metrics=['MSE','L'], ylims={'MSE':(0.6,1.1), 'sig2':(0,1.1) }, xaxis='dim')\n",
    "metrics = ['MSE','L']\n",
    "#def plot_res(res, metrics = ['MSE','sig2'],ylims=None, xaxis='beta'):\n",
    "xaxis='dim'\n",
    "res2 = res[['rule',xaxis] + metrics]\n",
    "mean = res2.groupby(['rule',xaxis]).mean()\n",
    "sem = res2.groupby(['rule',xaxis]).sem()"
   ]
  },
  {
   "cell_type": "code",
   "execution_count": 15,
   "metadata": {},
   "outputs": [
    {
     "data": {
      "text/html": [
       "<div>\n",
       "<style scoped>\n",
       "    .dataframe tbody tr th:only-of-type {\n",
       "        vertical-align: middle;\n",
       "    }\n",
       "\n",
       "    .dataframe tbody tr th {\n",
       "        vertical-align: top;\n",
       "    }\n",
       "\n",
       "    .dataframe thead th {\n",
       "        text-align: right;\n",
       "    }\n",
       "</style>\n",
       "<table border=\"1\" class=\"dataframe\">\n",
       "  <thead>\n",
       "    <tr style=\"text-align: right;\">\n",
       "      <th></th>\n",
       "      <th></th>\n",
       "      <th>MSE</th>\n",
       "      <th>L</th>\n",
       "    </tr>\n",
       "    <tr>\n",
       "      <th>rule</th>\n",
       "      <th>dim</th>\n",
       "      <th></th>\n",
       "      <th></th>\n",
       "    </tr>\n",
       "  </thead>\n",
       "  <tbody>\n",
       "    <tr>\n",
       "      <th rowspan=\"3\" valign=\"top\">corr</th>\n",
       "      <th>1</th>\n",
       "      <td>0.688128</td>\n",
       "      <td>0.000574</td>\n",
       "    </tr>\n",
       "    <tr>\n",
       "      <th>10</th>\n",
       "      <td>0.962749</td>\n",
       "      <td>0.000328</td>\n",
       "    </tr>\n",
       "    <tr>\n",
       "      <th>50</th>\n",
       "      <td>0.989345</td>\n",
       "      <td>0.000314</td>\n",
       "    </tr>\n",
       "    <tr>\n",
       "      <th rowspan=\"3\" valign=\"top\">exp</th>\n",
       "      <th>1</th>\n",
       "      <td>0.693786</td>\n",
       "      <td>0.000629</td>\n",
       "    </tr>\n",
       "    <tr>\n",
       "      <th>10</th>\n",
       "      <td>0.964057</td>\n",
       "      <td>0.000298</td>\n",
       "    </tr>\n",
       "    <tr>\n",
       "      <th>50</th>\n",
       "      <td>0.993659</td>\n",
       "      <td>0.000255</td>\n",
       "    </tr>\n",
       "    <tr>\n",
       "      <th rowspan=\"3\" valign=\"top\">exp-rm2</th>\n",
       "      <th>1</th>\n",
       "      <td>1136.546422</td>\n",
       "      <td>0.000000</td>\n",
       "    </tr>\n",
       "    <tr>\n",
       "      <th>10</th>\n",
       "      <td>7.282565</td>\n",
       "      <td>0.000000</td>\n",
       "    </tr>\n",
       "    <tr>\n",
       "      <th>50</th>\n",
       "      <td>2.174615</td>\n",
       "      <td>0.000000</td>\n",
       "    </tr>\n",
       "  </tbody>\n",
       "</table>\n",
       "</div>"
      ],
      "text/plain": [
       "                     MSE         L\n",
       "rule    dim                       \n",
       "corr    1       0.688128  0.000574\n",
       "        10      0.962749  0.000328\n",
       "        50      0.989345  0.000314\n",
       "exp     1       0.693786  0.000629\n",
       "        10      0.964057  0.000298\n",
       "        50      0.993659  0.000255\n",
       "exp-rm2 1    1136.546422  0.000000\n",
       "        10      7.282565  0.000000\n",
       "        50      2.174615  0.000000"
      ]
     },
     "execution_count": 15,
     "metadata": {},
     "output_type": "execute_result"
    }
   ],
   "source": [
    "mean"
   ]
  },
  {
   "cell_type": "code",
   "execution_count": 16,
   "metadata": {},
   "outputs": [
    {
     "ename": "NameError",
     "evalue": "name 'mp' is not defined",
     "output_type": "error",
     "traceback": [
      "\u001b[0;31m---------------------------------------------------------------------------\u001b[0m",
      "\u001b[0;31mNameError\u001b[0m                                 Traceback (most recent call last)",
      "\u001b[0;32m<ipython-input-16-921ad08ea504>\u001b[0m in \u001b[0;36m<module>\u001b[0;34m\u001b[0m\n\u001b[1;32m     10\u001b[0m         \u001b[0max\u001b[0m\u001b[0;34m.\u001b[0m\u001b[0mset_ylim\u001b[0m\u001b[0;34m(\u001b[0m\u001b[0mylims\u001b[0m\u001b[0;34m[\u001b[0m\u001b[0mmetric\u001b[0m\u001b[0;34m]\u001b[0m\u001b[0;34m)\u001b[0m\u001b[0;34m\u001b[0m\u001b[0;34m\u001b[0m\u001b[0m\n\u001b[1;32m     11\u001b[0m \u001b[0;34m\u001b[0m\u001b[0m\n\u001b[0;32m---> 12\u001b[0;31m     \u001b[0max\u001b[0m\u001b[0;34m.\u001b[0m\u001b[0mlegend\u001b[0m\u001b[0;34m(\u001b[0m\u001b[0mncol\u001b[0m\u001b[0;34m=\u001b[0m\u001b[0mlen\u001b[0m\u001b[0;34m(\u001b[0m\u001b[0mmp\u001b[0m\u001b[0;34m[\u001b[0m\u001b[0;34m'rules'\u001b[0m\u001b[0;34m]\u001b[0m\u001b[0;34m)\u001b[0m\u001b[0;34m)\u001b[0m\u001b[0;34m\u001b[0m\u001b[0;34m\u001b[0m\u001b[0m\n\u001b[0m\u001b[1;32m     13\u001b[0m     \u001b[0max\u001b[0m\u001b[0;34m.\u001b[0m\u001b[0mset_title\u001b[0m\u001b[0;34m(\u001b[0m\u001b[0mmetric\u001b[0m\u001b[0;34m)\u001b[0m\u001b[0;34m\u001b[0m\u001b[0;34m\u001b[0m\u001b[0m\n",
      "\u001b[0;31mNameError\u001b[0m: name 'mp' is not defined"
     ]
    },
    {
     "data": {
      "image/png": "[encoded data removed]",
      "text/plain": [
       "<Figure size 576x432 with 2 Axes>"
      ]
     },
     "metadata": {
      "needs_background": "light"
     },
     "output_type": "display_data"
    }
   ],
   "source": [
    "ylims={'MSE':(0.6,1.5), 'L':(-0.1,0.1) }\n",
    "f,axs = plt.subplots(len(metrics),1,figsize=[8,6], tight_layout=True,sharex=True)\n",
    "for metric,ax in zip(metrics,axs.reshape(-1)):\n",
    "    ax.set_ylabel(metric)\n",
    "\n",
    "    for rule in ['exp', 'corr','exp-rm2']:\n",
    "        mean.loc[rule,metric].plot(label=rule,ax=ax,marker='o',yerr=sem.loc[rule,metric])\n",
    "\n",
    "    if ylims is not None:\n",
    "        ax.set_ylim(ylims[metric])\n",
    "\n",
    "    ax.legend(ncol=len(mp['rules']))\n",
    "    ax.set_title(metric)"
   ]
  },
  {
   "cell_type": "markdown",
   "metadata": {},
   "source": [
    "Insights:\n",
    "- exp-rm2 has no loglike because of gamma = g0\n",
    "- without beta scaling, high dim values wont work\n",
    "- all corr-sims were killed (probably because they contained a dim=100 case)\n",
    "\n",
    "Mitigation:\n",
    "- focus on dim only\n",
    "- scale beta"
   ]
  },
  {
   "cell_type": "markdown",
   "metadata": {},
   "source": [
    "Test limiting cases:\n",
    "- x=const\n",
    "- x=super stocastic\n",
    "- => run and compare both rules for both cases, four in total\n",
    " "
   ]
  },
  {
   "cell_type": "code",
   "execution_count": null,
   "metadata": {},
   "outputs": [],
   "source": []
  },
  {
   "cell_type": "markdown",
   "metadata": {},
   "source": [
    "Old stuff"
   ]
  },
  {
   "cell_type": "code",
   "execution_count": null,
   "metadata": {
    "scrolled": false
   },
   "outputs": [],
   "source": [
    "i_max = 100\n",
    "i = 0\n",
    "mp = {'betas': [p['beta']], #np.linspace(0.01,1,21),\n",
    "      'rules':  ('corr','exp','exp-rm2'),\n",
    "      'repeats': range(5),\n",
    "      'dims': [1, 5, 10, 50, 100]}\n",
    "res = []\n",
    "\n",
    "parameter_list = list(enumerate(it.product(mp['betas'], mp['rules'], mp['repeats'], mp['dims'])))\n",
    "length = len(parameter_list)\n",
    "\n",
    "def assign_parameters_to_maximally_imax_nodes(i_max, i, parameter_list):\n",
    "    num_pars = len(parameter_list)\n",
    "    ii_to_run = np.where(np.arange(num_pars)[[int(ii/(num_pars/i_max)) for ii in range(num_pars)]] == i)[0]\n",
    "    parameter_list_to_run = [parameter_list[ii] for ii in ii_to_run]\n",
    "    return parameter_list_to_run\n",
    "\n",
    "\n",
    "if i != -1:\n",
    "    # maximally i_max sims\n",
    "    if len(parameter_list) < i_max + 1:\n",
    "        parameter_list = [parameter_list[i]]\n",
    "    else:\n",
    "        parameter_list = assign_parameters_to_maximally_imax_nodes(\n",
    "                        i_max=i_max, i=i, parameter_list=parameter_list)\n",
    "parameter_list"
   ]
  },
  {
   "cell_type": "code",
   "execution_count": null,
   "metadata": {},
   "outputs": [],
   "source": []
  },
  {
   "cell_type": "code",
   "execution_count": null,
   "metadata": {},
   "outputs": [],
   "source": [
    "res = pd.DataFrame(res)\n",
    "plot_res(res3,['MSE','sig2','L'])"
   ]
  },
  {
   "cell_type": "code",
   "execution_count": null,
   "metadata": {},
   "outputs": [],
   "source": [
    "res[res.rule=='corr']"
   ]
  },
  {
   "cell_type": "markdown",
   "metadata": {},
   "source": [
    "Older stuff"
   ]
  },
  {
   "cell_type": "code",
   "execution_count": null,
   "metadata": {},
   "outputs": [],
   "source": [
    "A = p['sig2_ou']*p['beta']**2*p['g0dt']/p['dt']*p['tau_ou']/2\n",
    "out.mean()"
   ]
  },
  {
   "cell_type": "code",
   "execution_count": null,
   "metadata": {},
   "outputs": [],
   "source": [
    "f,axs = plt.subplots(p['dim'],1,figsize=[12,10])\n",
    "for dim,ax in zip(range(p['dim']),axs.reshape(-1)):\n",
    "    plt.sca(ax)\n",
    "    vplt(v,p,key='filter',dim=dim,cut=1,c=None,err=True,alpha=0.8)"
   ]
  },
  {
   "cell_type": "code",
   "execution_count": null,
   "metadata": {},
   "outputs": [],
   "source": [
    "parameter_list = list(enumerate(it.product(mp['betas'], mp['rules'], mp['repeats'])))\n",
    "def assign_parameters_to_maximally_imax_nodes(i_max, i, parameter_list):\n",
    "    num_pars = len(parameter_list)\n",
    "    ii_to_run = np.where(np.arange(num_pars)[[int(ii/(num_pars/i_max)) for ii in range(num_pars)]] == i)[0]\n",
    "    parameter_list_to_run = [parameter_list[ii] for ii in ii_to_run]\n",
    "    return parameter_list_to_run\n",
    "i_max = 100\n",
    "i = 4"
   ]
  },
  {
   "cell_type": "code",
   "execution_count": null,
   "metadata": {},
   "outputs": [],
   "source": [
    "assign_parameters_to_maximally_imax_nodes(i_max,i,parameter_list)"
   ]
  },
  {
   "cell_type": "code",
   "execution_count": null,
   "metadata": {},
   "outputs": [],
   "source": [
    "len(parameter_list)"
   ]
  },
  {
   "cell_type": "code",
   "execution_count": null,
   "metadata": {},
   "outputs": [],
   "source": [
    "p['tau_ou'] = 5*20\n",
    "p['tau_z'] = 5*20\n",
    "p['beta'] = 0.1\n",
    "p['dim'] = 1\n",
    "p['dt'] = 0.001\n",
    "p['epoch_num'] = 50 # 2 * 2 * 5 = 20\n",
    "p['include-spike-response-kernel'] = False\n",
    "p['include-bias'] = False\n",
    "\n",
    "mp = {'betas': expspace(0.001,0.3,5*2),\n",
    "      'rules':  ('corr','exp','exp-rm2') , # ('exp','corr','exp-oja','exp-rm'), \n",
    "      'repeats': range(20)}\n",
    "length = len(list(it.product(mp['betas'], mp['rules'], mp['repeats'])))\n",
    "res = []\n",
    "\n",
    "\n",
    "parameter_list = list(enumerate(it.product(mp['betas'], mp['rules'], mp['repeats'])))\n",
    "\n",
    "for count, (beta, rule, repeat) in parameter_list:    \n",
    "    print(count,'/',length,'rule:',rule,'beta:',beta)\n",
    "    p['rule'] = rule\n",
    "    p['beta'] = beta\n",
    "    out,v = run_simulation(p,verbose=True,online=True)\n",
    "    out = out.mean().to_dict()        \n",
    "    \n",
    "    # what about diag vs matrix??? corr vs exp-rm2\n",
    "    mean = np.mean(v['sig2'][k0:k])\n",
    "    std = np.std(v['sig2'][k0:k])\n",
    "            \n",
    "    print(rule,mean,std)\n",
    "    \n",
    "    out.update({'beta':beta,'rule':rule})                \n",
    "    out.update({'Sigma_mean': mean})\n",
    "    out.update({'Sigma_std': std})\n",
    "    out.update({'alpha_bar': A3})\n",
    "    \n",
    "    \n",
    "    res.append(out)    \n",
    "res = pd.DataFrame(res)"
   ]
  },
  {
   "cell_type": "code",
   "execution_count": null,
   "metadata": {},
   "outputs": [],
   "source": [
    "v"
   ]
  },
  {
   "cell_type": "code",
   "execution_count": null,
   "metadata": {},
   "outputs": [],
   "source": [
    "import sys, os\n",
    "from util.util import load_obj"
   ]
  },
  {
   "cell_type": "code",
   "execution_count": null,
   "metadata": {},
   "outputs": [],
   "source": [
    "path = '../c_08-Feb-2021-beta100/pkl_data/'\n",
    "dfs = []\n",
    "for file in [file for file in os.listdir(path) if 'pkl' in file[-4:]]:\n",
    "    dfs.append(load_obj(path + file[:-4]))\n",
    "dfs = pd.concat(dfs)"
   ]
  },
  {
   "cell_type": "code",
   "execution_count": null,
   "metadata": {},
   "outputs": [],
   "source": [
    "def assign_parameters_to_maximally_imax_nodes(i_max, i, parameter_list):\n",
    "    num_pars = parameter_list\n",
    "    ii_to_run = np.where(np.arange(num_pars)[[int(ii/(num_pars/i_max)) for ii in range(num_pars)]] == i)[0]\n",
    "    parameter_list_to_run = [parameter_list[ii] for ii in ii_to_run]\n",
    "    return parameter_list_to_run"
   ]
  },
  {
   "cell_type": "code",
   "execution_count": null,
   "metadata": {},
   "outputs": [],
   "source": [
    "res = dfs.copy()\n",
    "res"
   ]
  },
  {
   "cell_type": "code",
   "execution_count": null,
   "metadata": {},
   "outputs": [],
   "source": [
    "### eval sigma"
   ]
  },
  {
   "cell_type": "code",
   "execution_count": null,
   "metadata": {},
   "outputs": [],
   "source": [
    "res2 = res.drop(list(res.columns)[1:6],axis=1)\n",
    "mean = res2.groupby(['rule','beta']).mean()\n",
    "sem = res2.groupby(['rule','beta']).sem()\n",
    "\n",
    "f,axs = plt.subplots(4,1,figsize=[12,10])\n",
    "for metric,ax in zip(('MSE','Sigma_mean','Sigma_std','alpha_bar'),axs.reshape(-1)):\n",
    "    ax.set_ylabel(metric)\n",
    "    \n",
    "    # fix\n",
    "#    if 'L' in metric:\n",
    " #       ax.set_ylim([-0.00000001,0.00000001])\n",
    "     #   mean[metric] += 1\n",
    "                    \n",
    "    for rule in mp['rules']:\n",
    "        #if ((rule != 'corr') and (metric != 'alpha_bar')):     \n",
    "        mean.loc[rule,metric].plot(label=rule,ax=ax,marker='o',yerr=sem.loc[rule,metric])\n",
    "    ax.legend(ncol=len(mp['rules']))\n",
    "    ax.set_xscale('log')\n",
    "    ax.set_yscale('log')\n",
    "    \n",
    "    "
   ]
  },
  {
   "cell_type": "markdown",
   "metadata": {},
   "source": [
    "### eval performance"
   ]
  },
  {
   "cell_type": "code",
   "execution_count": null,
   "metadata": {},
   "outputs": [],
   "source": [
    "res2 = res.sort_values('count').drop(list(res.columns)[3:6],axis=1)\n",
    "\n",
    "res2 = res2[res2.beta < 0.1]\n",
    "\n",
    "mean = res2.groupby(['rule','beta']).mean()\n",
    "sem = res2.groupby(['rule','beta']).sem()\n",
    "\n",
    "f,axs = plt.subplots(1,3,figsize=[12,6], tight_layout=True)\n",
    "for metric,ax in zip(('MSE','L','L_pt'),axs.reshape(-1)):\n",
    "    ax.set_ylabel(metric)\n",
    "    \n",
    "    # fix\n",
    "    if 'L' in metric:\n",
    "        #ax.set_ylim([-0.00000001,0.00000001])\n",
    "        unit = 10**6\n",
    "        mean[metric] *= unit\n",
    "        sem[metric] *= unit\n",
    "    #for rule in ['corr','exp']:\n",
    "    for rule in mp['rules']:\n",
    "        mean.loc[rule,metric].plot(label=rule,ax=ax,marker='o',yerr=sem.loc[rule,metric])\n",
    "    ax.legend() #ncol=len(mp['rules']))\n",
    "    ax.set_xscale('log')\n",
    "    #ax.set_yscale('log')\n",
    "f.suptitle(r'Parameters: $T_{\\max}=50 \\tau_{ou}, \\tau_{ou} = \\tau_{z} = 100s, d=1, n_{sim} = 20$', y=1.05)\n",
    "    "
   ]
  },
  {
   "cell_type": "markdown",
   "metadata": {},
   "source": [
    "What did I learn from this?\n",
    "1. I can run on cluster again. Good.\n",
    "2. Probably multiple tau_z = 100s are needed.\n",
    "3. Probably more averaging is needed.\n",
    "4. Very small beta is not meaningful, zoom into the range.\n",
    "5. be less verbose in output\n",
    "6. g0 vs gamma_approx\n",
    "7. check sigma_t vs sigma_approx_t -> quantify the difference between the true and false?"
   ]
  },
  {
   "cell_type": "markdown",
   "metadata": {},
   "source": [
    "# STDP / Heterosynaptic plasticity "
   ]
  },
  {
   "cell_type": "code",
   "execution_count": null,
   "metadata": {},
   "outputs": [],
   "source": [
    "mp = {'num_delta_T':21,\n",
    "      'delta_T_max':0.1,\n",
    "      'delta_T_min':-0.1}"
   ]
  },
  {
   "cell_type": "markdown",
   "metadata": {},
   "source": [
    "Compare two rules for single time series"
   ]
  },
  {
   "cell_type": "code",
   "execution_count": null,
   "metadata": {},
   "outputs": [],
   "source": [
    "test_rule = 'exp-rm'\n",
    "p['rule'] = test_rule\n",
    "p['delta_T'] = 0.1\n",
    "p['dim'] = 1\n",
    "v, states = run_timeseries(p,hetero=False)\n",
    "\n",
    "p['rule'] = 'corr'\n",
    "v2, states = run_timeseries(p,hetero=False)\n",
    "\n",
    "#p['rule'] = 'corr'\n",
    "#v2, states = run_timeseries(p,hetero=False)"
   ]
  },
  {
   "cell_type": "code",
   "execution_count": null,
   "metadata": {
    "scrolled": false
   },
   "outputs": [],
   "source": [
    "fig, axs = plt.subplots(2,2,tight_layout=True, sharex=True)\n",
    "plt.sca(axs[0,0])\n",
    "vplt(v,p,'mu',0) #, plt.xlim([0.45,.55])\n",
    "plt.title('deltaT={0}, dim={1}, beta={2}'.format(p['delta_T'],p['dim'],p['beta']))\n",
    "plt.sca(axs[0,1])\n",
    "\n",
    "vplt(v2,p,'mu',0,c='red') #, plt.xlim([0.45,.55])\n",
    "plt.title('deltaT={0}, dim={1}, beta={2}'.format(p['delta_T'],p['dim'],p['beta']))\n",
    "\n",
    "plt.sca(axs[1,0])\n",
    "vplt(v,p,'sig2',0) #, plt.xlim([0.45,.55])\n",
    "#plt.title('sig2(t) and z(t)')\n",
    "plt.ylabel('z(t)')\n",
    "plt.sca(axs[1,1])\n",
    "vplt(v2,p,'sig2',0,c='red') #, plt.xlim([0.45,.55])\n",
    "#plt.title('sig2(t) and z(t)')\n",
    "#plt.gca().legend(['exp-z','corr'])"
   ]
  },
  {
   "cell_type": "markdown",
   "metadata": {},
   "source": [
    "Compare STDP protocol for two rules"
   ]
  },
  {
   "cell_type": "code",
   "execution_count": null,
   "metadata": {},
   "outputs": [],
   "source": [
    "p['dim'] = 1\n",
    "p['rule'] = test_rule\n",
    "out = run_STDP(mp,p)\n",
    "p['rule'] = 'corr'\n",
    "out2 = run_STDP(mp,p)"
   ]
  },
  {
   "cell_type": "code",
   "execution_count": null,
   "metadata": {},
   "outputs": [],
   "source": [
    "d = 0\n",
    "def plt_stdp(out,d=0,c='k'):\n",
    "    xplt, dmu = np.array([(item['delta_T'], item['mu_f'][d] - item['mu_0'][d]) for item in out]).T\n",
    "    plt.plot(xplt,dmu,c=c)\n",
    "    plt.title('beta={0}, rule={1}'.format(p['beta'],p['rule']))\n",
    "\n",
    "fig, axs = plt.subplots(1,2,tight_layout=True)\n",
    "plt.sca(axs[0])\n",
    "p['rule'] = test_rule\n",
    "plt_stdp(out)\n",
    "p['rule'] = 'corr'\n",
    "plt.sca(axs[1])\n",
    "plt_stdp(out2,c='red')\n",
    "#plt.gca().legend(['exp-z','corr'])"
   ]
  },
  {
   "cell_type": "code",
   "execution_count": null,
   "metadata": {},
   "outputs": [],
   "source": [
    "p['rule'] = 'corr' # SF\n",
    "p['dim'] = 2\n",
    "v, states = run_timeseries(p,hetero=True)\n",
    "out = run_STDP(mp,p,hetero=True)\n",
    "\n",
    "p['rule'] = test_rule\n",
    "v2, states = run_timeseries(p,hetero=True)\n",
    "out2 = run_STDP(mp,p,hetero=True)"
   ]
  },
  {
   "cell_type": "code",
   "execution_count": null,
   "metadata": {},
   "outputs": [],
   "source": [
    "A = p['beta']**2*(p['g0dt']/p['dt'])*p['tau_ou'] # OK \n",
    "A"
   ]
  },
  {
   "cell_type": "code",
   "execution_count": null,
   "metadata": {},
   "outputs": [],
   "source": [
    "fig, axs = plt.subplots(1,2,tight_layout=True)\n",
    "for i, out_i, rule in zip([0,1],[out,out2],['corr',test_rule] ):\n",
    "    plt.sca(axs[i])\n",
    "    d = 0\n",
    "    xplt, dmu = np.array([(item['delta_T'], item['mu_f'][d] - item['mu_0'][d]) for item in out_i]).T\n",
    "    d = 1\n",
    "    xplt, dmu2 = np.array([(item['delta_T'], item['mu_f'][d] - item['mu_0'][d]) for item in out_i]).T\n",
    "    plt.plot(xplt,dmu,c='k',lw=1,label='Syn 1')\n",
    "    plt.plot(xplt,dmu2,c='red',lw=1,label='Syn 2')\n",
    "    plt.gca().legend()\n",
    "    plt.title('Hetero {1} b={0}'.format(p['beta'],rule))\n"
   ]
  },
  {
   "cell_type": "code",
   "execution_count": null,
   "metadata": {},
   "outputs": [],
   "source": []
  },
  {
   "cell_type": "code",
   "execution_count": null,
   "metadata": {},
   "outputs": [],
   "source": []
  }
 ],
 "metadata": {
  "kernelspec": {
   "display_name": "Python 3",
   "language": "python",
   "name": "python3"
  },
  "language_info": {
   "codemirror_mode": {
    "name": "ipython",
    "version": 3
   },
   "file_extension": ".py",
   "mimetype": "text/x-python",
   "name": "python",
   "nbconvert_exporter": "python",
   "pygments_lexer": "ipython3",
   "version": "3.7.6"
  }
 },
 "nbformat": 4,
 "nbformat_minor": 4
}
